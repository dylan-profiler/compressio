{
 "cells": [
  {
   "cell_type": "markdown",
   "metadata": {},
   "source": [
    "# Compressio basics\n",
    "\n",
    "This notebook demonstrates the basic usage of compressio on synthetic data."
   ]
  },
  {
   "cell_type": "code",
   "execution_count": 7,
   "metadata": {},
   "outputs": [
    {
     "name": "stdout",
     "output_type": "stream",
     "text": [
      "The autoreload extension is already loaded. To reload it, use:\n",
      "  %reload_ext autoreload\n"
     ]
    }
   ],
   "source": [
    "%load_ext autoreload\n",
    "%autoreload 2\n",
    "\n",
    "import random\n",
    "import datetime\n",
    "\n",
    "import numpy as np\n",
    "import pandas as pd\n",
    "from visions import StandardSet\n",
    "\n",
    "from compressio import Compress, storage_size, compress_report, savings_report"
   ]
  },
  {
   "cell_type": "markdown",
   "metadata": {},
   "source": [
    "Generate a DataFrame with various types:"
   ]
  },
  {
   "cell_type": "code",
   "execution_count": 8,
   "metadata": {},
   "outputs": [],
   "source": [
    "n = 1000000\n",
    "df = pd.DataFrame({\n",
    "    'integer': [random.choice([0, 1, 2]) for _ in range(n)], \n",
    "    'integer_missing': pd.Series([random.choice([0, 1, 2, np.nan]) for _ in range(n)], dtype=\"Int32\"),\n",
    "    'float': [3.0 for i in range(n)],\n",
    "    'complex': pd.Series([complex(0, 2) for i in range(n)], dtype='complex128'),\n",
    "    'object': ['strings' for i in range(n)],\n",
    "    'datetime': pd.Series([datetime.datetime(2020, 10, 10) for i in range(n)])\n",
    "})"
   ]
  },
  {
   "cell_type": "markdown",
   "metadata": {},
   "source": [
    "Initialize the `Compress` object:"
   ]
  },
  {
   "cell_type": "code",
   "execution_count": 9,
   "metadata": {},
   "outputs": [],
   "source": [
    "compress = Compress(with_type_inference=True)"
   ]
  },
  {
   "cell_type": "markdown",
   "metadata": {},
   "source": [
    "We start off with around 53 MB of data:"
   ]
  },
  {
   "cell_type": "code",
   "execution_count": 10,
   "metadata": {},
   "outputs": [
    {
     "name": "stdout",
     "output_type": "stream",
     "text": [
      "Original DataFrame size: 53.000128 megabyte\n"
     ]
    }
   ],
   "source": [
    "original_size = storage_size(df).to('megabyte')\n",
    "print(f'Original DataFrame size: {original_size}')"
   ]
  },
  {
   "cell_type": "markdown",
   "metadata": {},
   "source": [
    "This line of code automatically compresses the DataFrame:"
   ]
  },
  {
   "cell_type": "code",
   "execution_count": 11,
   "metadata": {},
   "outputs": [],
   "source": [
    "df_compressed = compress.it(df)"
   ]
  },
  {
   "cell_type": "code",
   "execution_count": 17,
   "metadata": {},
   "outputs": [
    {
     "data": {
      "text/plain": [
       "{'integer': Integer,\n",
       " 'integer_missing': Integer,\n",
       " 'float': Integer,\n",
       " 'complex': Complex,\n",
       " 'object': String,\n",
       " 'datetime': DateTime}"
      ]
     },
     "execution_count": 17,
     "metadata": {},
     "output_type": "execute_result"
    }
   ],
   "source": [
    "compress.typeset.infer_type(df)"
   ]
  },
  {
   "cell_type": "markdown",
   "metadata": {},
   "source": [
    "Let's see what has changed:"
   ]
  },
  {
   "cell_type": "code",
   "execution_count": 12,
   "metadata": {},
   "outputs": [
    {
     "name": "stdout",
     "output_type": "stream",
     "text": [
      "integer: was int64 compressed uint8 savings 7.0 megabyte\n",
      "integer_missing: was Int32 compressed UInt8 savings 3.0 megabyte\n",
      "float: was float64 compressed float16 savings 6.0 megabyte\n",
      "complex: was complex128 compressed complex64 savings 8.0 megabyte\n",
      "object: was object compressed category savings 6.999911999999999 megabyte\n",
      "datetime: was datetime64[ns] compressed category savings 6.999911999999999 megabyte\n"
     ]
    }
   ],
   "source": [
    "compress_report(df, compress.typeset, compress.compressor)"
   ]
  },
  {
   "cell_type": "code",
   "execution_count": 7,
   "metadata": {},
   "outputs": [
    {
     "name": "stdout",
     "output_type": "stream",
     "text": [
      "Original size: 53.000128 megabyte\n",
      "Compressed size: 15.000304 megabyte\n",
      "Savings: 37.999824 megabyte\n",
      "Reduction percentage: 71.70%\n"
     ]
    }
   ],
   "source": [
    "savings_report(df, df_compressed)"
   ]
  },
  {
   "cell_type": "code",
   "execution_count": 8,
   "metadata": {},
   "outputs": [
    {
     "data": {
      "text/plain": [
       "Index                  128\n",
       "integer            1000000\n",
       "integer_missing    2000000\n",
       "float              2000000\n",
       "complex            8000000\n",
       "object             1000088\n",
       "datetime           1000088\n",
       "dtype: int64"
      ]
     },
     "execution_count": 9,
     "metadata": {},
     "output_type": "execute_result"
    }
   ],
   "source": [
    "df_compressed.memory_usage()"
   ]
  },
  {
   "cell_type": "code",
   "execution_count": 10,
   "metadata": {},
   "outputs": [
    {
     "data": {
      "text/plain": [
       "Index                   128\n",
       "integer             8000000\n",
       "integer_missing     5000000\n",
       "float               8000000\n",
       "complex            16000000\n",
       "object              8000000\n",
       "datetime            8000000\n",
       "dtype: int64"
      ]
     },
     "execution_count": 11,
     "metadata": {},
     "output_type": "execute_result"
    }
   ],
   "source": [
    "df.memory_usage()"
   ]
  }
 ],
 "metadata": {
  "kernelspec": {
   "display_name": "Python 3",
   "language": "python",
   "name": "python3"
  },
  "language_info": {
   "codemirror_mode": {
    "name": "ipython",
    "version": 3
   },
   "file_extension": ".py",
   "mimetype": "text/x-python",
   "name": "python",
   "nbconvert_exporter": "python",
   "pygments_lexer": "ipython3",
   "version": "3.8.5"
  }
 },
 "nbformat": 4,
 "nbformat_minor": 4
}