{
 "cells": [
  {
   "cell_type": "markdown",
   "metadata": {},
   "source": [
    "# Compressario basics\n",
    "\n",
    "This notebook demonstates the basic usage of compressario on synthetic data."
   ]
  },
  {
   "cell_type": "code",
   "execution_count": 1,
   "metadata": {},
   "outputs": [],
   "source": [
    "%load_ext autoreload\n",
    "%autoreload 2\n",
    "\n",
    "import random\n",
    "import datetime\n",
    "\n",
    "import numpy as np\n",
    "import pandas as pd\n",
    "from visions import StandardSet\n",
    "\n",
    "from compressio import Compress, storage_size, savings"
   ]
  },
  {
   "cell_type": "markdown",
   "metadata": {},
   "source": [
    "Generate a DataFrame with various types:"
   ]
  },
  {
   "cell_type": "code",
   "execution_count": 2,
   "metadata": {},
   "outputs": [],
   "source": [
    "n = 1000000\n",
    "df = pd.DataFrame({\n",
    "    'integer': [random.choice([0, 1, 2]) for _ in range(n)], \n",
    "    'integer_missing': pd.Series([random.choice([0, 1, 2, np.nan]) for _ in range(n)], dtype=\"Int32\"),\n",
    "    'float': [3.0 for i in range(n)],\n",
    "    'complex': pd.Series([complex(0, 2) for i in range(n)], dtype='complex128'),\n",
    "    'object': ['strings' for i in range(n)],\n",
    "    'datetime': pd.Series([datetime.datetime(2020, 10, 10) for i in range(n)])\n",
    "})"
   ]
  },
  {
   "cell_type": "markdown",
   "metadata": {},
   "source": [
    "Initialize the `Compress` object:"
   ]
  },
  {
   "cell_type": "code",
   "execution_count": 3,
   "metadata": {},
   "outputs": [],
   "source": [
    "compress = Compress()"
   ]
  },
  {
   "cell_type": "markdown",
   "metadata": {},
   "source": [
    "We start off with around 53 MB of data:"
   ]
  },
  {
   "cell_type": "code",
   "execution_count": 4,
   "metadata": {},
   "outputs": [
    {
     "name": "stdout",
     "output_type": "stream",
     "text": [
      "Original DataFrame size: 53.000128 megabyte\n"
     ]
    }
   ],
   "source": [
    "original_size = storage_size(df).to('megabyte')\n",
    "print(f'Original DataFrame size: {original_size}')"
   ]
  },
  {
   "cell_type": "markdown",
   "metadata": {},
   "source": [
    "This line of code automatically compresses the DataFrame:"
   ]
  },
  {
   "cell_type": "code",
   "execution_count": 5,
   "metadata": {},
   "outputs": [],
   "source": [
    "df_compressed = compress.it(df)"
   ]
  },
  {
   "cell_type": "markdown",
   "metadata": {},
   "source": [
    "Let's see what has changed:"
   ]
  },
  {
   "cell_type": "code",
   "execution_count": 6,
   "metadata": {},
   "outputs": [
    {
     "data": {
      "text/html": [
       "\\[37.999824\\ megabyte\\]"
      ],
      "text/latex": [
       "$37.999824\\ \\mathrm{megabyte}$"
      ],
      "text/plain": [
       "37.999824 <Unit('megabyte')>"
      ]
     },
     "execution_count": 6,
     "metadata": {},
     "output_type": "execute_result"
    }
   ],
   "source": [
    "savings(df, df_compressed)"
   ]
  },
  {
   "cell_type": "code",
   "execution_count": 7,
   "metadata": {},
   "outputs": [
    {
     "data": {
      "text/plain": [
       "Index                  128\n",
       "integer            1000000\n",
       "integer_missing    2000000\n",
       "float              2000000\n",
       "complex            8000000\n",
       "object             1000088\n",
       "datetime           1000088\n",
       "dtype: int64"
      ]
     },
     "execution_count": 7,
     "metadata": {},
     "output_type": "execute_result"
    }
   ],
   "source": [
    "df_compressed.memory_usage()"
   ]
  },
  {
   "cell_type": "code",
   "execution_count": 8,
   "metadata": {},
   "outputs": [
    {
     "data": {
      "text/plain": [
       "Index                   128\n",
       "integer             8000000\n",
       "integer_missing     5000000\n",
       "float               8000000\n",
       "complex            16000000\n",
       "object              8000000\n",
       "datetime            8000000\n",
       "dtype: int64"
      ]
     },
     "execution_count": 8,
     "metadata": {},
     "output_type": "execute_result"
    }
   ],
   "source": [
    "df.memory_usage()"
   ]
  }
 ],
 "metadata": {
  "kernelspec": {
   "display_name": "Python 3",
   "language": "python",
   "name": "python3"
  },
  "language_info": {
   "codemirror_mode": {
    "name": "ipython",
    "version": 3
   },
   "file_extension": ".py",
   "mimetype": "text/x-python",
   "name": "python",
   "nbconvert_exporter": "python",
   "pygments_lexer": "ipython3",
   "version": "3.8.5"
  }
 },
 "nbformat": 4,
 "nbformat_minor": 4
}
