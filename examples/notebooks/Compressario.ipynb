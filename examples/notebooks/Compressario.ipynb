{
 "cells": [
  {
   "cell_type": "code",
   "execution_count": 1,
   "metadata": {},
   "outputs": [],
   "source": [
    "%load_ext autoreload\n",
    "%autoreload 2\n",
    "\n",
    "import numpy as np\n",
    "import pandas as pd\n",
    "import random\n",
    "from compressario import Compress\n",
    "from visions import StandardSet\n",
    "import datetime"
   ]
  },
  {
   "cell_type": "code",
   "execution_count": 5,
   "metadata": {},
   "outputs": [],
   "source": [
    "n = 10000\n",
    "df = pd.DataFrame({\n",
    "    'integer': [random.choice([0, 1, 2]) for _ in range(n)], \n",
    "    'float': [3.0 for i in range(n)],\n",
    "    'complex': pd.Series([complex(0, 2) for i in range(n)], dtype='complex128'),\n",
    "    'object': ['strings' for i in range(n)],\n",
    "    'datetime': pd.Series([datetime.datetime(2020, 10, 10) for i in range(n)])\n",
    "})\n",
    "\n",
    "compress = Compress()"
   ]
  },
  {
   "cell_type": "code",
   "execution_count": 3,
   "metadata": {},
   "outputs": [
    {
     "name": "stdout",
     "output_type": "stream",
     "text": [
      "Original DataFrame size: 0.480128 MB\n"
     ]
    }
   ],
   "source": [
    "original_size = df.memory_usage().sum() / 1000**2\n",
    "print(f'Original DataFrame size: {original_size} MB')"
   ]
  },
  {
   "cell_type": "code",
   "execution_count": 6,
   "metadata": {},
   "outputs": [],
   "source": [
    "df2 = compress.it(df)"
   ]
  },
  {
   "cell_type": "code",
   "execution_count": 7,
   "metadata": {},
   "outputs": [
    {
     "data": {
      "text/plain": [
       "0.349824 MB"
      ]
     },
     "execution_count": 7,
     "metadata": {},
     "output_type": "execute_result"
    }
   ],
   "source": [
    "compress.savings(df, df2)"
   ]
  },
  {
   "cell_type": "code",
   "execution_count": 94,
   "metadata": {},
   "outputs": [
    {
     "ename": "SyntaxError",
     "evalue": "invalid syntax (<ipython-input-94-731c2ba61890>, line 8)",
     "output_type": "error",
     "traceback": [
      "\u001b[0;36m  File \u001b[0;32m\"<ipython-input-94-731c2ba61890>\"\u001b[0;36m, line \u001b[0;32m8\u001b[0m\n\u001b[0;31m    def _(item: pd.Series, 2):\u001b[0m\n\u001b[0m                           ^\u001b[0m\n\u001b[0;31mSyntaxError\u001b[0m\u001b[0;31m:\u001b[0m invalid syntax\n"
     ]
    }
   ],
   "source": [
    "from functools import singledispatch\n",
    "\n",
    "@singledispatch\n",
    "def it(item):\n",
    "    print('generic')\n",
    "\n",
    "@it.register\n",
    "def _(item: pd.Series, 2):\n",
    "    print(\"I got an int bitches\")\n",
    "    \n",
    "it(pd.Series([1,2]), 3)"
   ]
  },
  {
   "cell_type": "code",
   "execution_count": null,
   "metadata": {},
   "outputs": [],
   "source": []
  }
 ],
 "metadata": {
  "kernelspec": {
   "display_name": "Python 3",
   "language": "python",
   "name": "python3"
  },
  "language_info": {
   "codemirror_mode": {
    "name": "ipython",
    "version": 3
   },
   "file_extension": ".py",
   "mimetype": "text/x-python",
   "name": "python",
   "nbconvert_exporter": "python",
   "pygments_lexer": "ipython3",
   "version": "3.8.3"
  }
 },
 "nbformat": 4,
 "nbformat_minor": 4
}
