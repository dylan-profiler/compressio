{
 "cells": [
  {
   "cell_type": "markdown",
   "metadata": {},
   "source": [
    "# Compressing sparse datasets\n",
    "\n",
    "Values in real-world data are often not evenly distributed.\n",
    "When there is a predominant value in your data, such as 0 or \"missing\", it's often more memory efficient to store only the different values. \n",
    "\n",
    "In this notebook we will let compressio consider sparse data structures for compression.\n",
    "\n",
    "You can find more information on how the SparseArray in pandas works on [this page](https://pandas.pydata.org/pandas-docs/stable/user_guide/sparse.html)."
   ]
  },
  {
   "cell_type": "code",
   "execution_count": 1,
   "metadata": {},
   "outputs": [],
   "source": [
    "%load_ext autoreload\n",
    "%autoreload 2"
   ]
  },
  {
   "cell_type": "code",
   "execution_count": 2,
   "metadata": {},
   "outputs": [],
   "source": [
    "import pandas as pd\n",
    "import numpy as np\n",
    "\n",
    "from compressio import Compress, storage_size, SparseCompressor, compress_report, savings_report"
   ]
  },
  {
   "cell_type": "markdown",
   "metadata": {},
   "source": [
    "We create a fictional cars dataset to illustrate sparse data structures can reduce memory usage with pandas. The amount of missing data is exaggerated for demonstation purposes: 95% of the data is missing for the sparse columns. You can play around with the parameters below to see for which amounts of missing values the sparse representation is more memory efficient."
   ]
  },
  {
   "cell_type": "code",
   "execution_count": 3,
   "metadata": {},
   "outputs": [
    {
     "data": {
      "text/html": [
       "<div>\n",
       "<style scoped>\n",
       "    .dataframe tbody tr th:only-of-type {\n",
       "        vertical-align: middle;\n",
       "    }\n",
       "\n",
       "    .dataframe tbody tr th {\n",
       "        vertical-align: top;\n",
       "    }\n",
       "\n",
       "    .dataframe thead th {\n",
       "        text-align: right;\n",
       "    }\n",
       "</style>\n",
       "<table border=\"1\" class=\"dataframe\">\n",
       "  <thead>\n",
       "    <tr style=\"text-align: right;\">\n",
       "      <th></th>\n",
       "      <th>primary_color</th>\n",
       "      <th>secondary_color</th>\n",
       "      <th>date_registered</th>\n",
       "      <th>date_scrapped</th>\n",
       "      <th>number_of_modifications</th>\n",
       "      <th>imported</th>\n",
       "    </tr>\n",
       "  </thead>\n",
       "  <tbody>\n",
       "    <tr>\n",
       "      <th>0</th>\n",
       "      <td>red</td>\n",
       "      <td>None</td>\n",
       "      <td>1970-01-01 00:00:00.000000001</td>\n",
       "      <td>NaT</td>\n",
       "      <td>&lt;NA&gt;</td>\n",
       "      <td>&lt;NA&gt;</td>\n",
       "    </tr>\n",
       "    <tr>\n",
       "      <th>1</th>\n",
       "      <td>pink</td>\n",
       "      <td>None</td>\n",
       "      <td>1970-01-01 00:00:00.000000001</td>\n",
       "      <td>NaT</td>\n",
       "      <td>&lt;NA&gt;</td>\n",
       "      <td>&lt;NA&gt;</td>\n",
       "    </tr>\n",
       "    <tr>\n",
       "      <th>2</th>\n",
       "      <td>green</td>\n",
       "      <td>None</td>\n",
       "      <td>1970-01-01 00:00:00.000000001</td>\n",
       "      <td>NaT</td>\n",
       "      <td>&lt;NA&gt;</td>\n",
       "      <td>&lt;NA&gt;</td>\n",
       "    </tr>\n",
       "    <tr>\n",
       "      <th>3</th>\n",
       "      <td>red</td>\n",
       "      <td>None</td>\n",
       "      <td>1970-01-01 00:00:00.000000001</td>\n",
       "      <td>NaT</td>\n",
       "      <td>&lt;NA&gt;</td>\n",
       "      <td>&lt;NA&gt;</td>\n",
       "    </tr>\n",
       "    <tr>\n",
       "      <th>4</th>\n",
       "      <td>red</td>\n",
       "      <td>None</td>\n",
       "      <td>1970-01-01 00:00:00.000000001</td>\n",
       "      <td>NaT</td>\n",
       "      <td>&lt;NA&gt;</td>\n",
       "      <td>&lt;NA&gt;</td>\n",
       "    </tr>\n",
       "    <tr>\n",
       "      <th>...</th>\n",
       "      <td>...</td>\n",
       "      <td>...</td>\n",
       "      <td>...</td>\n",
       "      <td>...</td>\n",
       "      <td>...</td>\n",
       "      <td>...</td>\n",
       "    </tr>\n",
       "    <tr>\n",
       "      <th>19995</th>\n",
       "      <td>red</td>\n",
       "      <td>silver</td>\n",
       "      <td>1970-01-01 00:00:00.000000001</td>\n",
       "      <td>1970-01-01 00:00:00.000000008</td>\n",
       "      <td>4</td>\n",
       "      <td>False</td>\n",
       "    </tr>\n",
       "    <tr>\n",
       "      <th>19996</th>\n",
       "      <td>green</td>\n",
       "      <td>black</td>\n",
       "      <td>1970-01-01 00:00:00.000000001</td>\n",
       "      <td>1970-01-01 00:00:00.000000007</td>\n",
       "      <td>4</td>\n",
       "      <td>True</td>\n",
       "    </tr>\n",
       "    <tr>\n",
       "      <th>19997</th>\n",
       "      <td>pink</td>\n",
       "      <td>gold</td>\n",
       "      <td>1970-01-01 00:00:00.000000001</td>\n",
       "      <td>1970-01-01 00:00:00.000000009</td>\n",
       "      <td>0</td>\n",
       "      <td>True</td>\n",
       "    </tr>\n",
       "    <tr>\n",
       "      <th>19998</th>\n",
       "      <td>yellow</td>\n",
       "      <td>black</td>\n",
       "      <td>1970-01-01 00:00:00.000000001</td>\n",
       "      <td>1970-01-01 00:00:00.000000004</td>\n",
       "      <td>2</td>\n",
       "      <td>True</td>\n",
       "    </tr>\n",
       "    <tr>\n",
       "      <th>19999</th>\n",
       "      <td>yellow</td>\n",
       "      <td>gold</td>\n",
       "      <td>1970-01-01 00:00:00.000000001</td>\n",
       "      <td>1970-01-01 00:00:00.000000004</td>\n",
       "      <td>1</td>\n",
       "      <td>False</td>\n",
       "    </tr>\n",
       "  </tbody>\n",
       "</table>\n",
       "<p>20000 rows × 6 columns</p>\n",
       "</div>"
      ],
      "text/plain": [
       "      primary_color secondary_color               date_registered  \\\n",
       "0               red            None 1970-01-01 00:00:00.000000001   \n",
       "1              pink            None 1970-01-01 00:00:00.000000001   \n",
       "2             green            None 1970-01-01 00:00:00.000000001   \n",
       "3               red            None 1970-01-01 00:00:00.000000001   \n",
       "4               red            None 1970-01-01 00:00:00.000000001   \n",
       "...             ...             ...                           ...   \n",
       "19995           red          silver 1970-01-01 00:00:00.000000001   \n",
       "19996         green           black 1970-01-01 00:00:00.000000001   \n",
       "19997          pink            gold 1970-01-01 00:00:00.000000001   \n",
       "19998        yellow           black 1970-01-01 00:00:00.000000001   \n",
       "19999        yellow            gold 1970-01-01 00:00:00.000000001   \n",
       "\n",
       "                      date_scrapped  number_of_modifications  imported  \n",
       "0                               NaT                     <NA>      <NA>  \n",
       "1                               NaT                     <NA>      <NA>  \n",
       "2                               NaT                     <NA>      <NA>  \n",
       "3                               NaT                     <NA>      <NA>  \n",
       "4                               NaT                     <NA>      <NA>  \n",
       "...                             ...                      ...       ...  \n",
       "19995 1970-01-01 00:00:00.000000008                        4     False  \n",
       "19996 1970-01-01 00:00:00.000000007                        4      True  \n",
       "19997 1970-01-01 00:00:00.000000009                        0      True  \n",
       "19998 1970-01-01 00:00:00.000000004                        2      True  \n",
       "19999 1970-01-01 00:00:00.000000004                        1     False  \n",
       "\n",
       "[20000 rows x 6 columns]"
      ]
     },
     "execution_count": 3,
     "metadata": {},
     "output_type": "execute_result"
    }
   ],
   "source": [
    "import random\n",
    "\n",
    "n_missing = 19000\n",
    "n_present = 1000\n",
    "n_total = n_missing + n_present\n",
    "\n",
    "data = pd.DataFrame({\n",
    "    'primary_color': pd.Series(random.choices(['green', 'blue', 'red', 'yellow', 'white', 'pink'], k=n_total), dtype=str),\n",
    "    'secondary_color': pd.Series([None] * n_missing + random.choices(['gold', 'black', 'silver'], k=n_present), dtype=str),\n",
    "    'date_registered': pd.Series([1] * n_total, dtype=\"datetime64[ns]\"),\n",
    "    'date_scrapped': pd.Series([pd.NaT] * n_missing + random.choices([1,2,3,4,5,6,7,8,9,10],k=n_present), dtype=\"datetime64[ns]\"),\n",
    "    'number_of_modifications': pd.Series([pd.NA] * n_missing + random.choices([0,1,2,3,4],k=n_present), dtype=\"Int64\"),\n",
    "    'imported': pd.Series([pd.NA] * n_missing + random.choices([True, False], k=n_present), dtype=\"boolean\"),\n",
    "})\n",
    "\n",
    "data"
   ]
  },
  {
   "cell_type": "code",
   "execution_count": 4,
   "metadata": {},
   "outputs": [],
   "source": [
    "compress = Compress(compressor=SparseCompressor())"
   ]
  },
  {
   "cell_type": "code",
   "execution_count": 5,
   "metadata": {},
   "outputs": [
    {
     "name": "stdout",
     "output_type": "stream",
     "text": [
      "Original DataFrame size: 0.860128 megabyte\n"
     ]
    }
   ],
   "source": [
    "original_size = storage_size(data).to('megabyte')\n",
    "print(f'Original DataFrame size: {original_size}')"
   ]
  },
  {
   "cell_type": "code",
   "execution_count": 6,
   "metadata": {},
   "outputs": [
    {
     "data": {
      "text/plain": [
       "{'primary_color': String,\n",
       " 'secondary_color': String,\n",
       " 'date_registered': DateTime,\n",
       " 'date_scrapped': DateTime,\n",
       " 'number_of_modifications': Integer,\n",
       " 'imported': Boolean}"
      ]
     },
     "execution_count": 6,
     "metadata": {},
     "output_type": "execute_result"
    }
   ],
   "source": [
    "compress.typeset.detect_type(data)"
   ]
  },
  {
   "cell_type": "code",
   "execution_count": 7,
   "metadata": {},
   "outputs": [
    {
     "data": {
      "text/html": [
       "<div>\n",
       "<style scoped>\n",
       "    .dataframe tbody tr th:only-of-type {\n",
       "        vertical-align: middle;\n",
       "    }\n",
       "\n",
       "    .dataframe tbody tr th {\n",
       "        vertical-align: top;\n",
       "    }\n",
       "\n",
       "    .dataframe thead th {\n",
       "        text-align: right;\n",
       "    }\n",
       "</style>\n",
       "<table border=\"1\" class=\"dataframe\">\n",
       "  <thead>\n",
       "    <tr style=\"text-align: right;\">\n",
       "      <th></th>\n",
       "      <th>primary_color</th>\n",
       "      <th>secondary_color</th>\n",
       "      <th>date_registered</th>\n",
       "      <th>date_scrapped</th>\n",
       "      <th>number_of_modifications</th>\n",
       "      <th>imported</th>\n",
       "    </tr>\n",
       "  </thead>\n",
       "  <tbody>\n",
       "    <tr>\n",
       "      <th>0</th>\n",
       "      <td>red</td>\n",
       "      <td>NaN</td>\n",
       "      <td>1970-01-01 00:00:00.000000001</td>\n",
       "      <td>NaT</td>\n",
       "      <td>&lt;NA&gt;</td>\n",
       "      <td>&lt;NA&gt;</td>\n",
       "    </tr>\n",
       "    <tr>\n",
       "      <th>1</th>\n",
       "      <td>pink</td>\n",
       "      <td>NaN</td>\n",
       "      <td>1970-01-01 00:00:00.000000001</td>\n",
       "      <td>NaT</td>\n",
       "      <td>&lt;NA&gt;</td>\n",
       "      <td>&lt;NA&gt;</td>\n",
       "    </tr>\n",
       "    <tr>\n",
       "      <th>2</th>\n",
       "      <td>green</td>\n",
       "      <td>NaN</td>\n",
       "      <td>1970-01-01 00:00:00.000000001</td>\n",
       "      <td>NaT</td>\n",
       "      <td>&lt;NA&gt;</td>\n",
       "      <td>&lt;NA&gt;</td>\n",
       "    </tr>\n",
       "    <tr>\n",
       "      <th>3</th>\n",
       "      <td>red</td>\n",
       "      <td>NaN</td>\n",
       "      <td>1970-01-01 00:00:00.000000001</td>\n",
       "      <td>NaT</td>\n",
       "      <td>&lt;NA&gt;</td>\n",
       "      <td>&lt;NA&gt;</td>\n",
       "    </tr>\n",
       "    <tr>\n",
       "      <th>4</th>\n",
       "      <td>red</td>\n",
       "      <td>NaN</td>\n",
       "      <td>1970-01-01 00:00:00.000000001</td>\n",
       "      <td>NaT</td>\n",
       "      <td>&lt;NA&gt;</td>\n",
       "      <td>&lt;NA&gt;</td>\n",
       "    </tr>\n",
       "    <tr>\n",
       "      <th>...</th>\n",
       "      <td>...</td>\n",
       "      <td>...</td>\n",
       "      <td>...</td>\n",
       "      <td>...</td>\n",
       "      <td>...</td>\n",
       "      <td>...</td>\n",
       "    </tr>\n",
       "    <tr>\n",
       "      <th>19995</th>\n",
       "      <td>red</td>\n",
       "      <td>silver</td>\n",
       "      <td>1970-01-01 00:00:00.000000001</td>\n",
       "      <td>1970-01-01 00:00:00.000000008</td>\n",
       "      <td>4</td>\n",
       "      <td>False</td>\n",
       "    </tr>\n",
       "    <tr>\n",
       "      <th>19996</th>\n",
       "      <td>green</td>\n",
       "      <td>black</td>\n",
       "      <td>1970-01-01 00:00:00.000000001</td>\n",
       "      <td>1970-01-01 00:00:00.000000007</td>\n",
       "      <td>4</td>\n",
       "      <td>True</td>\n",
       "    </tr>\n",
       "    <tr>\n",
       "      <th>19997</th>\n",
       "      <td>pink</td>\n",
       "      <td>gold</td>\n",
       "      <td>1970-01-01 00:00:00.000000001</td>\n",
       "      <td>1970-01-01 00:00:00.000000009</td>\n",
       "      <td>0</td>\n",
       "      <td>True</td>\n",
       "    </tr>\n",
       "    <tr>\n",
       "      <th>19998</th>\n",
       "      <td>yellow</td>\n",
       "      <td>black</td>\n",
       "      <td>1970-01-01 00:00:00.000000001</td>\n",
       "      <td>1970-01-01 00:00:00.000000004</td>\n",
       "      <td>2</td>\n",
       "      <td>True</td>\n",
       "    </tr>\n",
       "    <tr>\n",
       "      <th>19999</th>\n",
       "      <td>yellow</td>\n",
       "      <td>gold</td>\n",
       "      <td>1970-01-01 00:00:00.000000001</td>\n",
       "      <td>1970-01-01 00:00:00.000000004</td>\n",
       "      <td>1</td>\n",
       "      <td>False</td>\n",
       "    </tr>\n",
       "  </tbody>\n",
       "</table>\n",
       "<p>20000 rows × 6 columns</p>\n",
       "</div>"
      ],
      "text/plain": [
       "      primary_color secondary_color               date_registered  \\\n",
       "0               red             NaN 1970-01-01 00:00:00.000000001   \n",
       "1              pink             NaN 1970-01-01 00:00:00.000000001   \n",
       "2             green             NaN 1970-01-01 00:00:00.000000001   \n",
       "3               red             NaN 1970-01-01 00:00:00.000000001   \n",
       "4               red             NaN 1970-01-01 00:00:00.000000001   \n",
       "...             ...             ...                           ...   \n",
       "19995           red          silver 1970-01-01 00:00:00.000000001   \n",
       "19996         green           black 1970-01-01 00:00:00.000000001   \n",
       "19997          pink            gold 1970-01-01 00:00:00.000000001   \n",
       "19998        yellow           black 1970-01-01 00:00:00.000000001   \n",
       "19999        yellow            gold 1970-01-01 00:00:00.000000001   \n",
       "\n",
       "                      date_scrapped  number_of_modifications  imported  \n",
       "0                               NaT                     <NA>      <NA>  \n",
       "1                               NaT                     <NA>      <NA>  \n",
       "2                               NaT                     <NA>      <NA>  \n",
       "3                               NaT                     <NA>      <NA>  \n",
       "4                               NaT                     <NA>      <NA>  \n",
       "...                             ...                      ...       ...  \n",
       "19995 1970-01-01 00:00:00.000000008                        4     False  \n",
       "19996 1970-01-01 00:00:00.000000007                        4      True  \n",
       "19997 1970-01-01 00:00:00.000000009                        0      True  \n",
       "19998 1970-01-01 00:00:00.000000004                        2      True  \n",
       "19999 1970-01-01 00:00:00.000000004                        1     False  \n",
       "\n",
       "[20000 rows x 6 columns]"
      ]
     },
     "execution_count": 7,
     "metadata": {},
     "output_type": "execute_result"
    }
   ],
   "source": [
    "data_compressed = compress.it(data)\n",
    "data_compressed"
   ]
  },
  {
   "cell_type": "code",
   "execution_count": 8,
   "metadata": {
    "scrolled": false
   },
   "outputs": [
    {
     "name": "stdout",
     "output_type": "stream",
     "text": [
      "primary_color: converting from object to category saves 139.792 kilobyte (use `data[primary_color].astype(\"category\")`)\n",
      "secondary_color: converting from object to Sparse[object, nan] saves 148.0 kilobyte (use `data[secondary_color].astype(\"Sparse[object, nan]\")`)\n",
      "date_registered: converting from datetime64[ns] to category saves 139.912 kilobyte (use `data[date_registered].astype(\"category\")`)\n",
      "date_scrapped: converting from datetime64[ns] to category saves 139.6 kilobyte (use `data[date_scrapped].astype(\"category\")`)\n",
      "number_of_modifications: converting from Int64 to Sparse[int8, <NA>] saves 175.0 kilobyte (use `data[number_of_modifications].astype(\"Sparse[int8, <NA>]\")`)\n",
      "imported: converting from boolean to Sparse[bool, <NA>] saves 35.0 kilobyte (use `data[imported].astype(\"Sparse[bool, <NA>]\")`)\n"
     ]
    }
   ],
   "source": [
    "compress_report(data, compress.typeset, compress.compressor, with_inference=False, units=\"kilobytes\")"
   ]
  },
  {
   "cell_type": "code",
   "execution_count": 9,
   "metadata": {},
   "outputs": [
    {
     "name": "stdout",
     "output_type": "stream",
     "text": [
      "Original size: 0.860128 megabyte\n",
      "Compressed size: 0.082824 megabyte\n",
      "Savings: 0.777304 megabyte\n",
      "Reduction percentage: 90.37%\n"
     ]
    }
   ],
   "source": [
    "savings_report(data, data_compressed)"
   ]
  },
  {
   "cell_type": "code",
   "execution_count": 10,
   "metadata": {},
   "outputs": [
    {
     "data": {
      "text/plain": [
       "0.05"
      ]
     },
     "execution_count": 10,
     "metadata": {},
     "output_type": "execute_result"
    }
   ],
   "source": [
    "data_compressed[\"secondary_color\"].sparse.density"
   ]
  },
  {
   "cell_type": "code",
   "execution_count": 11,
   "metadata": {},
   "outputs": [
    {
     "data": {
      "text/plain": [
       "0.05"
      ]
     },
     "execution_count": 11,
     "metadata": {},
     "output_type": "execute_result"
    }
   ],
   "source": [
    "data_compressed[\"number_of_modifications\"].sparse.density"
   ]
  },
  {
   "cell_type": "code",
   "execution_count": 12,
   "metadata": {},
   "outputs": [
    {
     "data": {
      "text/plain": [
       "0.05"
      ]
     },
     "execution_count": 12,
     "metadata": {},
     "output_type": "execute_result"
    }
   ],
   "source": [
    "data_compressed[\"imported\"].sparse.density"
   ]
  }
 ],
 "metadata": {
  "kernelspec": {
   "display_name": "my-virtualenv-name",
   "language": "python",
   "name": "my-virtualenv-name"
  },
  "language_info": {
   "codemirror_mode": {
    "name": "ipython",
    "version": 3
   },
   "file_extension": ".py",
   "mimetype": "text/x-python",
   "name": "python",
   "nbconvert_exporter": "python",
   "pygments_lexer": "ipython3",
   "version": "3.7.3"
  }
 },
 "nbformat": 4,
 "nbformat_minor": 4
}
