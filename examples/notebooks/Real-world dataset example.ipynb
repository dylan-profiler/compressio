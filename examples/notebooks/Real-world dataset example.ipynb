{
 "cells": [
  {
   "cell_type": "markdown",
   "metadata": {},
   "source": [
    "# Real-world dataset example\n",
    "\n",
    "In this example we demonstrate ..."
   ]
  },
  {
   "cell_type": "code",
   "execution_count": 1,
   "metadata": {},
   "outputs": [],
   "source": [
    "%load_ext autoreload\n",
    "%autoreload 2\n",
    "\n",
    "import random\n",
    "import datetime\n",
    "\n",
    "import numpy as np\n",
    "import pandas as pd\n",
    "from visions import StandardSet\n",
    "\n",
    "from compressio import Compress, storage_size, savings, savings_report"
   ]
  },
  {
   "cell_type": "code",
   "execution_count": 2,
   "metadata": {},
   "outputs": [],
   "source": [
    "url = \"https://data.cityofchicago.org/api/views/xzkq-xp2w/rows.csv?accessType=DOWNLOAD\"\n",
    "\n",
    "# Load dataset\n",
    "df = pd.read_csv(url)"
   ]
  },
  {
   "cell_type": "code",
   "execution_count": 3,
   "metadata": {},
   "outputs": [],
   "source": [
    "compress = Compress()"
   ]
  },
  {
   "cell_type": "code",
   "execution_count": 4,
   "metadata": {},
   "outputs": [
    {
     "name": "stdout",
     "output_type": "stream",
     "text": [
      "Original DataFrame size: 11.826331999999999 megabyte\n"
     ]
    }
   ],
   "source": [
    "original_size = storage_size(df, deep=True).to('megabyte')\n",
    "print(f'Original DataFrame size: {original_size}')"
   ]
  },
  {
   "cell_type": "code",
   "execution_count": 5,
   "metadata": {},
   "outputs": [],
   "source": [
    "df_compressed = compress.it(df)"
   ]
  },
  {
   "cell_type": "code",
   "execution_count": 6,
   "metadata": {},
   "outputs": [
    {
     "data": {
      "text/html": [
       "\\[8.819101999999999\\ megabyte\\]"
      ],
      "text/latex": [
       "$8.819101999999999\\ \\mathrm{megabyte}$"
      ],
      "text/plain": [
       "8.819101999999999 <Unit('megabyte')>"
      ]
     },
     "execution_count": 6,
     "metadata": {},
     "output_type": "execute_result"
    }
   ],
   "source": [
    "savings(df, df_compressed, deep=True)"
   ]
  },
  {
   "cell_type": "code",
   "execution_count": 7,
   "metadata": {},
   "outputs": [
    {
     "name": "stdout",
     "output_type": "stream",
     "text": [
      "Original size: 11.826331999999999 megabyte\n",
      "Compressed size: 3.00723 megabyte\n",
      "Savings: 8.819101999999999 megabyte\n",
      "Reduction percentage: 74.57%\n"
     ]
    }
   ],
   "source": [
    "savings_report(df, df_compressed, deep=True)"
   ]
  },
  {
   "cell_type": "markdown",
   "metadata": {},
   "source": [
    "Memory reduction of around 90%, nice. But why stop there? We can go beyond. Up until now we have leveraged `visions` to detect dtypes and then compress accordingly. However, visions enables inference and coercion of types as well. It's possible to design relations between types that automatically coerse. For instance integers stored as floats (`[1.0, 2.0, 3.0]` => `[1, 2, 3]`) . "
   ]
  },
  {
   "cell_type": "code",
   "execution_count": 8,
   "metadata": {},
   "outputs": [
    {
     "data": {
      "text/plain": [
       "Index                    128\n",
       "Name                 2443548\n",
       "Job Titles            197207\n",
       "Department             36665\n",
       "Full or Part-Time      33124\n",
       "Salary or Hourly       33134\n",
       "Typical Hours          65856\n",
       "Annual Salary         131712\n",
       "Hourly Rate            65856\n",
       "dtype: int64"
      ]
     },
     "execution_count": 8,
     "metadata": {},
     "output_type": "execute_result"
    }
   ],
   "source": [
    "df_compressed.memory_usage(deep=True)"
   ]
  },
  {
   "cell_type": "code",
   "execution_count": 9,
   "metadata": {},
   "outputs": [
    {
     "data": {
      "text/plain": [
       "Index                    128\n",
       "Name                 2443548\n",
       "Job Titles           2487171\n",
       "Department           2120925\n",
       "Full or Part-Time    1909824\n",
       "Salary or Hourly     2074464\n",
       "Typical Hours         263424\n",
       "Annual Salary         263424\n",
       "Hourly Rate           263424\n",
       "dtype: int64"
      ]
     },
     "execution_count": 9,
     "metadata": {},
     "output_type": "execute_result"
    }
   ],
   "source": [
    "df.memory_usage(deep=True)"
   ]
  },
  {
   "cell_type": "code",
   "execution_count": null,
   "metadata": {},
   "outputs": [],
   "source": []
  }
 ],
 "metadata": {
  "kernelspec": {
   "display_name": "Python 3",
   "language": "python",
   "name": "python3"
  },
  "language_info": {
   "codemirror_mode": {
    "name": "ipython",
    "version": 3
   },
   "file_extension": ".py",
   "mimetype": "text/x-python",
   "name": "python",
   "nbconvert_exporter": "python",
   "pygments_lexer": "ipython3",
   "version": "3.8.5"
  }
 },
 "nbformat": 4,
 "nbformat_minor": 4
}
