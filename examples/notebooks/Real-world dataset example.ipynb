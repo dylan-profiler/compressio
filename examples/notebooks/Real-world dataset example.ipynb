{
 "cells": [
  {
   "cell_type": "markdown",
   "metadata": {},
   "source": [
    "# Real-world dataset example\n",
    "\n",
    "In this example we demonstrate ..."
   ]
  },
  {
   "cell_type": "code",
   "execution_count": 2,
   "metadata": {},
   "outputs": [
    {
     "name": "stdout",
     "output_type": "stream",
     "text": [
      "The autoreload extension is already loaded. To reload it, use:\n",
      "  %reload_ext autoreload\n"
     ]
    }
   ],
   "source": [
    "%load_ext autoreload\n",
    "%autoreload 2\n",
    "\n",
    "import random\n",
    "import datetime\n",
    "\n",
    "import numpy as np\n",
    "import pandas as pd\n",
    "from visions import StandardSet\n",
    "\n",
    "from compressario import Compress, storage_size, StorageSize, savings, savings_report"
   ]
  },
  {
   "cell_type": "code",
   "execution_count": 57,
   "metadata": {},
   "outputs": [
    {
     "data": {
      "text/plain": [
       "False"
      ]
     },
     "execution_count": 57,
     "metadata": {},
     "output_type": "execute_result"
    }
   ],
   "source": [
    "from typing import Union\n",
    "from pint import UnitRegistry, Quantity\n",
    "\n",
    "\n",
    "ureg = UnitRegistry()\n",
    "\n",
    "class StorageSize:\n",
    "    type_options = {\"b\": \"byte\", \"kb\": \"kilobyte\", \"mb\": \"megabyte\", \"gb\": \"gigabyte\"}\n",
    "\n",
    "    def __init__(self, total: Union[int, float], units=\"mb\") -> None:\n",
    "        self._unit_str = self.type_options[units.lower()]\n",
    "        self.total: Quantity = total * self._pint_unit\n",
    "\n",
    "    @property\n",
    "    def units(self) -> str:\n",
    "        return self._unit_str\n",
    "\n",
    "    @units.setter\n",
    "    def units(self, val: str) -> None:\n",
    "        trial_val = val.lower()\n",
    "        if trial_val in self.type_options:\n",
    "            self._unit_str = self.type_options[trial_val]\n",
    "            self.total = self.convert_to_units(self.total)\n",
    "        else:\n",
    "            raise ValueError(f\"Units must be one of {list(self.type_options.keys())}\")\n",
    "    \n",
    "    @property\n",
    "    def _pint_unit(self) -> Quantity:\n",
    "        return getattr(ureg, self.units)\n",
    "\n",
    "    def convert_to_units(self, value) -> float:\n",
    "        return value.to(self.units)\n",
    "\n",
    "    def __str__(self) -> str:\n",
    "        return f\"{self.total}\"\n",
    "\n",
    "    def __repr__(self) -> str:\n",
    "        return self.__str__()\n",
    "    \n",
    "size = StorageSize(1000, 'b')\n",
    "size.total == 1000\n"
   ]
  },
  {
   "cell_type": "code",
   "execution_count": 61,
   "metadata": {},
   "outputs": [
    {
     "data": {
      "text/plain": [
       "True"
      ]
     },
     "execution_count": 61,
     "metadata": {},
     "output_type": "execute_result"
    }
   ],
   "source": [
    "size.total.magnitude == 1000"
   ]
  },
  {
   "cell_type": "code",
   "execution_count": 5,
   "metadata": {},
   "outputs": [
    {
     "data": {
      "text/plain": [
       "[b'| This data was extracted from the census bureau database found at\\n',\n",
       " b'| http://www.census.gov/ftp/pub/DES/www/welcome.html\\n',\n",
       " b'| Donor: Terran Lane and Ronny Kohavi\\n',\n",
       " b'|        Data Mining and Visualization\\n',\n",
       " b'|        Silicon Graphics.\\n',\n",
       " b'|        e-mail: terran@ecn.purdue.edu, ronnyk@sgi.com for questions.\\n',\n",
       " b'|\\n',\n",
       " b'| The data was split into train/test in approximately 2/3, 1/3\\n',\n",
       " b\"| proportions using MineSet's MIndUtil mineset-to-mlc.\\n\",\n",
       " b'|\\n',\n",
       " b'| Prediction task is to determine the income level for the person\\n',\n",
       " b'| represented by the record.  Incomes have been binned at the $50K\\n',\n",
       " b'| level to present a binary classification problem, much like the\\n',\n",
       " b'| original UCI/ADULT database.  The goal field of this data, however,\\n',\n",
       " b'| was drawn from the \"total person income\" field rather than the\\n',\n",
       " b'| \"adjusted gross income\" and may, therefore, behave differently than the\\n',\n",
       " b'| orginal ADULT goal field.\\n',\n",
       " b'|\\n',\n",
       " b'| More information detailing the meaning of the attributes can be\\n',\n",
       " b'| found in http://www.bls.census.gov/cps/cpsmain.htm\\n',\n",
       " b'| To make use of the data descriptions at this site, the following mappings\\n',\n",
       " b\"| to the Census Bureau's internal database column names will be needed:\\n\",\n",
       " b'|\\n',\n",
       " b'| age\\t\\t\\t\\t\\t\\tAAGE\\n',\n",
       " b'| class of worker\\t\\t\\t\\tACLSWKR\\n',\n",
       " b'| industry code\\t\\t\\t\\t\\tADTIND\\n',\n",
       " b'| occupation code\\t\\t\\t\\tADTOCC\\n',\n",
       " b'| adjusted gross income\\t\\t\\t\\tAGI\\n',\n",
       " b'| education\\t\\t\\t\\t\\tAHGA\\n',\n",
       " b'| wage per hour\\t\\t\\t\\t\\tAHRSPAY\\n',\n",
       " b'| enrolled in edu inst last wk\\t\\t\\tAHSCOL\\n',\n",
       " b'| marital status\\t\\t\\t\\tAMARITL\\n',\n",
       " b'| major industry code\\t\\t\\t\\tAMJIND\\n',\n",
       " b'| major occupation code\\t\\t\\t\\tAMJOCC\\n',\n",
       " b'| mace\\t\\t\\t\\t\\t\\tARACE\\n',\n",
       " b'| hispanic Origin\\t\\t\\t\\tAREORGN\\n',\n",
       " b'| sex\\t\\t\\t\\t\\t\\tASEX\\n',\n",
       " b'| member of a labor union\\t\\t\\tAUNMEM\\n',\n",
       " b'| reason for unemployment\\t\\t\\tAUNTYPE\\n',\n",
       " b'| full or part time employment stat\\t\\tAWKSTAT\\n',\n",
       " b'| capital gains\\t\\t\\t\\t\\tCAPGAIN\\n',\n",
       " b'| capital losses\\t\\t\\t\\tCAPLOSS\\n',\n",
       " b'| divdends from stocks\\t\\t\\t\\tDIVVAL\\n',\n",
       " b'| federal income tax liability\\t\\t\\tFEDTAX\\n',\n",
       " b'| tax filer status\\t\\t\\t\\tFILESTAT\\n',\n",
       " b'| region of previous residence\\t\\t\\tGRINREG\\n',\n",
       " b'| state of previous residence\\t\\t\\tGRINST\\n',\n",
       " b'| detailed household and family stat\\t\\tHHDFMX\\n',\n",
       " b'| detailed household summary in household\\tHHDREL\\n',\n",
       " b'| instance weight\\t\\t\\t\\tMARSUPWT\\n',\n",
       " b'| migration code-change in msa\\t\\t\\tMIGMTR1\\n',\n",
       " b'| migration code-change in reg\\t\\t\\tMIGMTR3\\n',\n",
       " b'| migration code-move within reg\\t\\tMIGMTR4\\n',\n",
       " b'| live in this house 1 year ago\\t\\t\\tMIGSAME\\n',\n",
       " b'| migration prev res in sunbelt\\t\\t\\tMIGSUN\\n',\n",
       " b'| num persons worked for employer\\t\\tNOEMP\\n',\n",
       " b'| family members under 18\\t\\t\\tPARENT\\n',\n",
       " b'| total person earnings\\t\\t\\t\\tPEARNVAL\\n',\n",
       " b'| country of birth father\\t\\t\\tPEFNTVTY\\n',\n",
       " b'| country of birth mother\\t\\t\\tPEMNTVTY\\n',\n",
       " b'| country of birth self\\t\\t\\t\\tPENATVTY\\n',\n",
       " b'| citizenship\\t\\t\\t\\t\\tPRCITSHP\\n',\n",
       " b'| total person income\\t\\t\\t\\tPTOTVAL\\n',\n",
       " b'| own business or self employed\\t\\t\\tSEOTR\\n',\n",
       " b'| taxable income amount\\t\\t\\t\\tTAXINC\\n',\n",
       " b\"| fill inc questionnaire for veteran's admin\\tVETQVA\\n\",\n",
       " b'| veterans benefits\\t\\t\\t\\tVETYN\\n',\n",
       " b'| weeks worked in year\\t\\t\\t\\tWKSWORK\\n',\n",
       " b'| \\n',\n",
       " b'| Basic statistics for this data set:\\n',\n",
       " b'|\\n',\n",
       " b'| Number of instances data = 199523\\n',\n",
       " b'|    Duplicate or conflicting instances : 46716\\n',\n",
       " b'| Number of instances in test = 99762\\n',\n",
       " b'|    Duplicate or conflicting instances : 20936\\n',\n",
       " b'| Class probabilities for income-projected.test file\\n',\n",
       " b\"| Probability for the label '- 50000' : 93.80%\\n\",\n",
       " b\"| Probability for the label '50000+' : 6.20%\\n\",\n",
       " b'| Majority accuracy: 93.80% on value - 50000\\n',\n",
       " b'| Number of attributes = 40 (continuous : 7 nominal : 33)\\n',\n",
       " b'| Information about .data file : \\n',\n",
       " b'|   91 distinct values for attribute #0 (age) continuous\\n',\n",
       " b'|    9 distinct values for attribute #1 (class of worker) nominal\\n',\n",
       " b'|   52 distinct values for attribute #2 (detailed industry recode) nominal\\n',\n",
       " b'|   47 distinct values for attribute #3 (detailed occupation recode) nominal\\n',\n",
       " b'|   17 distinct values for attribute #4 (education) nominal\\n',\n",
       " b'| 1240 distinct values for attribute #5 (wage per hour) continuous\\n',\n",
       " b'|    3 distinct values for attribute #6 (enroll in edu inst last wk) nominal\\n',\n",
       " b'|    7 distinct values for attribute #7 (marital stat) nominal\\n',\n",
       " b'|   24 distinct values for attribute #8 (major industry code) nominal\\n',\n",
       " b'|   15 distinct values for attribute #9 (major occupation code) nominal\\n',\n",
       " b'|    5 distinct values for attribute #10 (race) nominal\\n',\n",
       " b'|   10 distinct values for attribute #11 (hispanic origin) nominal\\n',\n",
       " b'|    2 distinct values for attribute #12 (sex) nominal\\n',\n",
       " b'|    3 distinct values for attribute #13 (member of a labor union) nominal\\n',\n",
       " b'|    6 distinct values for attribute #14 (reason for unemployment) nominal\\n',\n",
       " b'|    8 distinct values for attribute #15 (full or part time employment stat) nominal\\n',\n",
       " b'|  132 distinct values for attribute #16 (capital gains) continuous\\n',\n",
       " b'|  113 distinct values for attribute #17 (capital losses) continuous\\n',\n",
       " b'| 1478 distinct values for attribute #18 (dividends from stocks) continuous\\n',\n",
       " b'|    6 distinct values for attribute #19 (tax filer stat) nominal\\n',\n",
       " b'|    6 distinct values for attribute #20 (region of previous residence) nominal\\n',\n",
       " b'|   51 distinct values for attribute #21 (state of previous residence) nominal\\n',\n",
       " b'|   38 distinct values for attribute #22 (detailed household and family stat) nominal\\n',\n",
       " b'|    8 distinct values for attribute #23 (detailed household summary in household) nominal\\n',\n",
       " b'|   10 distinct values for attribute #24 (migration code-change in msa) nominal\\n',\n",
       " b'|    9 distinct values for attribute #25 (migration code-change in reg) nominal\\n',\n",
       " b'|   10 distinct values for attribute #26 (migration code-move within reg) nominal\\n',\n",
       " b'|    3 distinct values for attribute #27 (live in this house 1 year ago) nominal\\n',\n",
       " b'|    4 distinct values for attribute #28 (migration prev res in sunbelt) nominal\\n',\n",
       " b'|    7 distinct values for attribute #29 (num persons worked for employer) continuous\\n',\n",
       " b'|    5 distinct values for attribute #30 (family members under 18) nominal\\n',\n",
       " b'|   43 distinct values for attribute #31 (country of birth father) nominal\\n',\n",
       " b'|   43 distinct values for attribute #32 (country of birth mother) nominal\\n',\n",
       " b'|   43 distinct values for attribute #33 (country of birth self) nominal\\n',\n",
       " b'|    5 distinct values for attribute #34 (citizenship) nominal\\n',\n",
       " b'|    3 distinct values for attribute #35 (own business or self employed) nominal\\n',\n",
       " b\"|    3 distinct values for attribute #36 (fill inc questionnaire for veteran's admin) nominal\\n\",\n",
       " b'|    3 distinct values for attribute #37 (veterans benefits) nominal\\n',\n",
       " b'|   53 distinct values for attribute #38 (weeks worked in year) continuous\\n',\n",
       " b'|    2 distinct values for attribute #39 (year) nominal\\n',\n",
       " b'| \\n',\n",
       " b'|\\n',\n",
       " b'| Error rates:\\n',\n",
       " b'|    C4.5       \\t: 4.8%\\n',\n",
       " b'|    C5.0\\t\\t: 4.7%\\n',\n",
       " b'|    C5.0 rules\\t\\t: 4.7%\\n',\n",
       " b'|    C5.0 boosting\\t: 4.6%\\n',\n",
       " b'|    Naive-Bayes\\t: 23.2%\\n',\n",
       " b'|\\n',\n",
       " b'| \\n',\n",
       " b'| All commas and periods were changed to spaces\\n',\n",
       " b'| Colons were replaced with dashes.\\n',\n",
       " b'|\\n',\n",
       " b'| The instance weight indicates the number of people in the population\\n',\n",
       " b'| that each record represents due to stratified sampling.\\n',\n",
       " b'| To do real analysis and derive conclusions, this field must be used.\\n',\n",
       " b'| This attribute should *not* be used in the classifiers, so it is\\n',\n",
       " b'| set to \"ignore\" in this file.\\n',\n",
       " b'|\\n',\n",
       " b'- 50000, 50000+.\\n',\n",
       " b'\\n',\n",
       " b'age: continuous.\\n',\n",
       " b'class of worker: Not in universe, Federal government, Local government, Never worked, Private, Self-employed-incorporated, Self-employed-not incorporated, State government, Without pay.\\n',\n",
       " b'detailed industry recode: 0, 40, 44, 2, 43, 47, 48, 1, 11, 19, 24, 25, 32, 33, 34, 35, 36, 37, 38, 39, 4, 42, 45, 5, 15, 16, 22, 29, 31, 50, 14, 17, 18, 28, 3, 30, 41, 46, 51, 12, 13, 21, 23, 26, 6, 7, 9, 49, 27, 8, 10, 20.\\n',\n",
       " b'detailed occupation recode: 0, 12, 31, 44, 19, 32, 10, 23, 26, 28, 29, 42, 40, 34, 14, 36, 38, 2, 20, 25, 37, 41, 27, 24, 30, 43, 33, 16, 45, 17, 35, 22, 18, 39, 3, 15, 13, 46, 8, 21, 9, 4, 6, 5, 1, 11, 7.\\n',\n",
       " b'education: Children, 7th and 8th grade, 9th grade, 10th grade, High school graduate, 11th grade, 12th grade no diploma, 5th or 6th grade, Less than 1st grade, Bachelors degree(BA AB BS), 1st 2nd 3rd or 4th grade, Some college but no degree, Masters degree(MA MS MEng MEd MSW MBA), Associates degree-occup /vocational, Associates degree-academic program, Doctorate degree(PhD EdD), Prof school degree (MD DDS DVM LLB JD).\\n',\n",
       " b'wage per hour: continuous.\\n',\n",
       " b'enroll in edu inst last wk: Not in universe, High school, College or university.\\n',\n",
       " b'marital stat: Never married, Married-civilian spouse present, Married-spouse absent, Separated, Divorced, Widowed, Married-A F spouse present.\\n',\n",
       " b'major industry code: Not in universe or children, Entertainment, Social services, Agriculture, Education, Public administration, Manufacturing-durable goods, Manufacturing-nondurable goods, Wholesale trade, Retail trade, Finance insurance and real estate, Private household services, Business and repair services, Personal services except private HH, Construction, Medical except hospital, Other professional services, Transportation, Utilities and sanitary services, Mining, Communications, Hospital services, Forestry and fisheries, Armed Forces.\\n',\n",
       " b'major occupation code: Not in universe, Professional specialty, Other service, Farming forestry and fishing, Sales, Adm support including clerical, Protective services, Handlers equip cleaners etc , Precision production craft & repair, Technicians and related support, Machine operators assmblrs & inspctrs, Transportation and material moving, Executive admin and managerial, Private household services, Armed Forces.\\n',\n",
       " b'race: White, Black, Other, Amer Indian Aleut or Eskimo, Asian or Pacific Islander.\\n',\n",
       " b'hispanic origin: Mexican (Mexicano), Mexican-American, Puerto Rican, Central or South American, All other, Other Spanish, Chicano, Cuban, Do not know, NA.\\n',\n",
       " b'sex: Female, Male.\\n',\n",
       " b'member of a labor union: Not in universe, No, Yes.\\n',\n",
       " b'reason for unemployment: Not in universe, Re-entrant, Job loser - on layoff, New entrant, Job leaver, Other job loser.\\n',\n",
       " b'full or part time employment stat: Children or Armed Forces, Full-time schedules, Unemployed part- time, Not in labor force, Unemployed full-time, PT for non-econ reasons usually FT, PT for econ reasons usually PT, PT for econ reasons usually FT.\\n',\n",
       " b'capital gains: continuous.\\n',\n",
       " b'capital losses: continuous.\\n',\n",
       " b'dividends from stocks: continuous.\\n',\n",
       " b'tax filer stat: Nonfiler, Joint one under 65 & one 65+, Joint both under 65, Single, Head of household, Joint both 65+.\\n',\n",
       " b'region of previous residence: Not in universe, South, Northeast, West, Midwest, Abroad.\\n',\n",
       " b'state of previous residence: Not in universe, Utah, Michigan, North Carolina, North Dakota, Virginia, Vermont, Wyoming, West Virginia, Pennsylvania, Abroad, Oregon, California, Iowa, Florida, Arkansas, Texas, South Carolina, Arizona, Indiana, Tennessee, Maine, Alaska, Ohio, Montana, Nebraska, Mississippi, District of Columbia, Minnesota, Illinois, Kentucky, Delaware, Colorado, Maryland, Wisconsin, New Hampshire, Nevada, New York, Georgia, Oklahoma, New Mexico, South Dakota, Missouri, Kansas, Connecticut, Louisiana, Alabama, Massachusetts, Idaho, New Jersey.\\n',\n",
       " b'detailed household and family stat: Child <18 never marr not in subfamily, Other Rel <18 never marr child of subfamily RP, Other Rel <18 never marr not in subfamily, Grandchild <18 never marr child of subfamily RP, Grandchild <18 never marr not in subfamily, Secondary individual, In group quarters, Child under 18 of RP of unrel subfamily, RP of unrelated subfamily, Spouse of householder, Householder, Other Rel <18 never married RP of subfamily, Grandchild <18 never marr RP of subfamily, Child <18 never marr RP of subfamily, Child <18 ever marr not in subfamily, Other Rel <18 ever marr RP of subfamily, Child <18 ever marr RP of subfamily, Nonfamily householder, Child <18 spouse of subfamily RP, Other Rel <18 spouse of subfamily RP, Other Rel <18 ever marr not in subfamily, Grandchild <18 ever marr not in subfamily, Child 18+ never marr Not in a subfamily, Grandchild 18+ never marr not in subfamily, Child 18+ ever marr RP of subfamily, Other Rel 18+ never marr not in subfamily, Child 18+ never marr RP of subfamily, Other Rel 18+ ever marr RP of subfamily, Other Rel 18+ never marr RP of subfamily, Other Rel 18+ spouse of subfamily RP, Other Rel 18+ ever marr not in subfamily, Child 18+ ever marr Not in a subfamily, Grandchild 18+ ever marr not in subfamily, Child 18+ spouse of subfamily RP, Spouse of RP of unrelated subfamily, Grandchild 18+ ever marr RP of subfamily, Grandchild 18+ never marr RP of subfamily, Grandchild 18+ spouse of subfamily RP.\\n',\n",
       " b'detailed household summary in household: Child under 18 never married, Other relative of householder, Nonrelative of householder, Spouse of householder, Householder, Child under 18 ever married, Group Quarters- Secondary individual, Child 18 or older.\\n',\n",
       " b'| instance weight: ignore.\\n',\n",
       " b'instance weight: continuous.\\n',\n",
       " b'migration code-change in msa: Not in universe, Nonmover, MSA to MSA, NonMSA to nonMSA, MSA to nonMSA, NonMSA to MSA, Abroad to MSA, Not identifiable, Abroad to nonMSA.\\n',\n",
       " b'migration code-change in reg: Not in universe, Nonmover, Same county, Different county same state, Different state same division, Abroad, Different region, Different division same region.\\n',\n",
       " b'migration code-move within reg: Not in universe, Nonmover, Same county, Different county same state, Different state in West, Abroad, Different state in Midwest, Different state in South, Different state in Northeast.\\n',\n",
       " b'live in this house 1 year ago: Not in universe under 1 year old, Yes, No.\\n',\n",
       " b'migration prev res in sunbelt: Not in universe, Yes, No.\\n',\n",
       " b'num persons worked for employer: continuous.\\n',\n",
       " b'family members under 18: Both parents present, Neither parent present, Mother only present, Father only present, Not in universe.\\n',\n",
       " b'country of birth father: Mexico, United-States, Puerto-Rico, Dominican-Republic, Jamaica, Cuba, Portugal, Nicaragua, Peru, Ecuador, Guatemala, Philippines, Canada, Columbia, El-Salvador, Japan, England, Trinadad&Tobago, Honduras, Germany, Taiwan, Outlying-U S (Guam USVI etc), India, Vietnam, China, Hong Kong, Cambodia, France, Laos, Haiti, South Korea, Iran, Greece, Italy, Poland, Thailand, Yugoslavia, Holand-Netherlands, Ireland, Scotland, Hungary, Panama.\\n',\n",
       " b'country of birth mother: India, Mexico, United-States, Puerto-Rico, Dominican-Republic, England, Honduras, Peru, Guatemala, Columbia, El-Salvador, Philippines, France, Ecuador, Nicaragua, Cuba, Outlying-U S (Guam USVI etc), Jamaica, South Korea, China, Germany, Yugoslavia, Canada, Vietnam, Japan, Cambodia, Ireland, Laos, Haiti, Portugal, Taiwan, Holand-Netherlands, Greece, Italy, Poland, Thailand, Trinadad&Tobago, Hungary, Panama, Hong Kong, Scotland, Iran.\\n',\n",
       " b'country of birth self: United-States, Mexico, Puerto-Rico, Peru, Canada, South Korea, India, Japan, Haiti, El-Salvador, Dominican-Republic, Portugal, Columbia, England, Thailand, Cuba, Laos, Panama, China, Germany, Vietnam, Italy, Honduras, Outlying-U S (Guam USVI etc), Hungary, Philippines, Poland, Ecuador, Iran, Guatemala, Holand-Netherlands, Taiwan, Nicaragua, France, Jamaica, Scotland, Yugoslavia, Hong Kong, Trinadad&Tobago, Greece, Cambodia, Ireland.\\n',\n",
       " b'citizenship: Native- Born in the United States, Foreign born- Not a citizen of U S , Native- Born in Puerto Rico or U S Outlying, Native- Born abroad of American Parent(s), Foreign born- U S citizen by naturalization.\\n',\n",
       " b'own business or self employed: 0, 2, 1.\\n',\n",
       " b\"fill inc questionnaire for veteran's admin: Not in universe, Yes, No.\\n\",\n",
       " b'veterans benefits: 0, 2, 1.\\n',\n",
       " b'weeks worked in year: continuous.\\n',\n",
       " b'year: 94, 95.\\n']"
      ]
     },
     "execution_count": 5,
     "metadata": {},
     "output_type": "execute_result"
    }
   ],
   "source": [
    "url = \"https://archive.ics.uci.edu/ml/machine-learning-databases/census-income-mld/census-income.data.gz\"\n",
    "header = 'https://archive.ics.uci.edu/ml/machine-learning-databases/census-income-mld/census-income.names'\n",
    "import urllib\n",
    "urllib.request.urlopen(header).readlines()\n",
    "#pd.read_csv(url)"
   ]
  },
  {
   "cell_type": "markdown",
   "metadata": {},
   "source": [
    "Choose and load the dataset"
   ]
  },
  {
   "cell_type": "code",
   "execution_count": null,
   "metadata": {},
   "outputs": [],
   "source": [
    "file_name = r\"gekentekende_voertuigen.1000000.csv\"\n",
    "\n",
    "# Load dataset\n",
    "df = pd.read_csv(file_name)"
   ]
  },
  {
   "cell_type": "code",
   "execution_count": null,
   "metadata": {},
   "outputs": [],
   "source": [
    "compress = Compress()"
   ]
  },
  {
   "cell_type": "code",
   "execution_count": null,
   "metadata": {},
   "outputs": [],
   "source": [
    "original_size = storage_size(df, deep=True)\n",
    "print(f'Original DataFrame size: {StorageSize(original_size, units=\"MB\")}')"
   ]
  },
  {
   "cell_type": "code",
   "execution_count": null,
   "metadata": {},
   "outputs": [],
   "source": [
    "df_compressed = compress.it(df)"
   ]
  },
  {
   "cell_type": "code",
   "execution_count": null,
   "metadata": {},
   "outputs": [],
   "source": [
    "savings(df, df_compressed, deep=True)"
   ]
  },
  {
   "cell_type": "code",
   "execution_count": null,
   "metadata": {},
   "outputs": [],
   "source": [
    "savings_report(df, df_compressed, deep=True)"
   ]
  },
  {
   "cell_type": "markdown",
   "metadata": {},
   "source": [
    "Memory reduction of around 90%, nice. But why stop there? We can go beyond. Up until now we have leveraged `visions` to detect dtypes and then compress accordingly. However, visions enables inference and coercion of types as well. It's possible to design relations between types that automatically coerse. For instance integers stored as floats (`[1.0, 2.0, 3.0]` => `[1, 2, 3]`) . "
   ]
  },
  {
   "cell_type": "code",
   "execution_count": null,
   "metadata": {},
   "outputs": [],
   "source": [
    "df_compressed.memory_usage(deep=True)"
   ]
  },
  {
   "cell_type": "code",
   "execution_count": null,
   "metadata": {},
   "outputs": [],
   "source": [
    "df.memory_usage(deep=True)"
   ]
  }
 ],
 "metadata": {
  "kernelspec": {
   "display_name": "Python 3",
   "language": "python",
   "name": "python3"
  },
  "language_info": {
   "codemirror_mode": {
    "name": "ipython",
    "version": 3
   },
   "file_extension": ".py",
   "mimetype": "text/x-python",
   "name": "python",
   "nbconvert_exporter": "python",
   "pygments_lexer": "ipython3",
   "version": "3.8.3"
  }
 },
 "nbformat": 4,
 "nbformat_minor": 4
}
